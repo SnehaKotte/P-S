{
  "nbformat": 4,
  "nbformat_minor": 0,
  "metadata": {
    "colab": {
      "provenance": [],
      "authorship_tag": "ABX9TyPtCu08eG+oFNMmlCzXp07P",
      "include_colab_link": true
    },
    "kernelspec": {
      "name": "python3",
      "display_name": "Python 3"
    },
    "language_info": {
      "name": "python"
    }
  },
  "cells": [
    {
      "cell_type": "markdown",
      "metadata": {
        "id": "view-in-github",
        "colab_type": "text"
      },
      "source": [
        "<a href=\"https://colab.research.google.com/github/SnehaKotte/P-S/blob/main/LAB_Exam.ipynb\" target=\"_parent\"><img src=\"https://colab.research.google.com/assets/colab-badge.svg\" alt=\"Open In Colab\"/></a>"
      ]
    },
    {
      "cell_type": "code",
      "execution_count": null,
      "metadata": {
        "colab": {
          "base_uri": "https://localhost:8080/"
        },
        "id": "RHCf6YvbfXX6",
        "outputId": "5189b0a1-5198-44ba-a147-57ed0a81d215"
      },
      "outputs": [
        {
          "output_type": "stream",
          "name": "stdout",
          "text": [
            "Mean:  33.95\n",
            "Median: 30\n"
          ]
        }
      ],
      "source": [
        "import numpy as np\n",
        "Marks = np.array([18, 25, 30, 35, 40, 45, 50])\n",
        "Students = np.array([5, 20, 25, 18, 10, 15, 7])\n",
        "mean=np.sum(Marks*Students)/np.sum(Students)\n",
        "print(\"Mean:\",mean)\n",
        "\n",
        "cumulative_frequencies = np.cumsum(Students)\n",
        "N = np.sum(Students)\n",
        "median_index = np.where(cumulative_frequencies >= N / 2)[0][0]\n",
        "median = Marks[median_index]\n",
        "print(\"Median:\",median)"
      ]
    }
  ]
}